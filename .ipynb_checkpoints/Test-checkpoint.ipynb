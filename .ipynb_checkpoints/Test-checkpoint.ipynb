{
 "cells": [
  {
   "cell_type": "code",
   "execution_count": 2,
   "id": "e2e15cb7-5c3a-43fe-8362-9f0b9a144ecb",
   "metadata": {},
   "outputs": [
    {
     "name": "stdout",
     "output_type": "stream",
     "text": [
      "I am really a pig.\n"
     ]
    }
   ],
   "source": [
    "print(\"I am really a pig.\")"
   ]
  },
  {
   "cell_type": "code",
   "execution_count": 3,
   "id": "53a8c7c5-9717-4bd0-af78-6e9935c5fd76",
   "metadata": {},
   "outputs": [
    {
     "name": "stdout",
     "output_type": "stream",
     "text": [
      "Are you a pig?\n"
     ]
    }
   ],
   "source": [
    "print(\"Are you a pig?\")"
   ]
  },
  {
   "cell_type": "code",
   "execution_count": null,
   "id": "109d1056-e115-489b-a38f-8e954fa5581c",
   "metadata": {},
   "outputs": [],
   "source": []
  }
 ],
 "metadata": {
  "kernelspec": {
   "display_name": "Python 3 (ipykernel)",
   "language": "python",
   "name": "python3"
  },
  "language_info": {
   "codemirror_mode": {
    "name": "ipython",
    "version": 3
   },
   "file_extension": ".py",
   "mimetype": "text/x-python",
   "name": "python",
   "nbconvert_exporter": "python",
   "pygments_lexer": "ipython3",
   "version": "3.11.13"
  }
 },
 "nbformat": 4,
 "nbformat_minor": 5
}
